{
 "cells": [
  {
   "cell_type": "code",
   "execution_count": null,
   "metadata": {},
   "outputs": [],
   "source": [
    "import pandas as pd\n",
    "\n",
    "import dash\n",
    "import dash_html_components as html\n",
    "import plotly.graph_objects as go\n",
    "import dash_core_components as dcc\n",
    "import plotly.express as px\n",
    "from dash.dependencies import Input, Output\n",
    "\n",
    "\n",
    "app = dash.Dash()\n",
    "\n",
    "df = pd.read_csv('dataset.csv', index_col=0)\n",
    "\n",
    "app.layout = html.Div(id = 'parent', children = [\n",
    "    html.H1(id = 'H1', children = 'Sample Dash Plot', style = {'textAlign':'center',\\\n",
    "                                            'marginTop':40,'marginBottom':40}),\n",
    "\n",
    "        dcc.Dropdown( id = 'dropdown',\n",
    "        options = [\n",
    "    {'label':'X0', 'value':'X0' },\n",
    "    {'label': 'X1', 'value':'X1'},\n",
    "    {'label': 'X2', 'value':'X2'},\n",
    "            ],\n",
    "        value = 'Class'),\n",
    "        dcc.Graph(id = 'bar_plot')\n",
    "    ])\n",
    "    \n",
    "    \n",
    "@app.callback(Output(component_id='bar_plot', component_property= 'figure'),\n",
    "              [Input(component_id='dropdown', component_property= 'value')])\n",
    "def graph_update(dropdown_value):\n",
    "    print(dropdown_value)\n",
    "    fig = go.Figure([go.Scatter(x = df['Class'], y = df['{}'.format(dropdown_value)],\\\n",
    "                     line = dict(color = 'firebrick', width = 4))\n",
    "                     ])\n",
    "    \n",
    "    fig.update_layout(title = 'Features vs Target',\n",
    "                      xaxis_title = 'Target',\n",
    "                      yaxis_title = 'Features'\n",
    "                      )\n",
    "    return fig  \n",
    "\n",
    "\n",
    "\n",
    "if __name__ == '__main__': \n",
    "    app.run_server()"
   ]
  },
  {
   "cell_type": "code",
   "execution_count": null,
   "metadata": {},
   "outputs": [],
   "source": []
  }
 ],
 "metadata": {
  "kernelspec": {
   "display_name": "Python 3",
   "language": "python",
   "name": "python3"
  },
  "language_info": {
   "codemirror_mode": {
    "name": "ipython",
    "version": 3
   },
   "file_extension": ".py",
   "mimetype": "text/x-python",
   "name": "python",
   "nbconvert_exporter": "python",
   "pygments_lexer": "ipython3",
   "version": "3.8.6"
  }
 },
 "nbformat": 4,
 "nbformat_minor": 4
}
